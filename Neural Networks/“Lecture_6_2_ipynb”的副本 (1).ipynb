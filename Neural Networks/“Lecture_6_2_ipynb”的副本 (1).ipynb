{
  "cells": [
    {
      "cell_type": "markdown",
      "metadata": {
        "id": "sSzPbbYO6VVg"
      },
      "source": [
        "# Programming a Deep Neural Network from Scratch with Python\n",
        "\n"
      ]
    },
    {
      "cell_type": "code",
      "source": [
        "#!pip install tensorflow\n",
        "from tensorflow import keras\n",
        "import numpy as np\n",
        "import matplotlib.pyplot as plt\n",
        "\n",
        "# Use the keras module to import the necessary data\n",
        "(train_X, train_y), (test_X, test_y) = keras.datasets.cifar100.load_data()"
      ],
      "metadata": {
        "id": "78K_op3z6Wci"
      },
      "execution_count": null,
      "outputs": []
    },
    {
      "cell_type": "markdown",
      "metadata": {
        "id": "8ds3J6lx6VVi"
      },
      "source": [
        "---\n",
        "\n",
        "The data structures ```train_x``` and ```test_x``` are stored as 3 dimensional tensors.\n"
      ]
    },
    {
      "cell_type": "code",
      "execution_count": null,
      "metadata": {
        "id": "VIbj91GM6VVj",
        "outputId": "51592eb8-c376-4677-8c1d-d409468294e1",
        "colab": {
          "base_uri": "https://localhost:8080/"
        }
      },
      "outputs": [
        {
          "output_type": "stream",
          "name": "stdout",
          "text": [
            "np.shape(train_X) =(50000, 32, 32, 3)\n",
            "np.shape(test_X) = (10000, 32, 32, 3) \n",
            "\n",
            "np.shape(train_X[0]) = (32, 32, 3)\n",
            "np.shape(test_X[0]) = (32, 32, 3) \n",
            "\n",
            "train_X[0] = [[[199 215 249]\n",
            "  [196 211 244]\n",
            "  [195 210 243]\n",
            "  ...\n",
            "  [216 231 250]\n",
            "  [217 231 250]\n",
            "  [224 234 252]]\n",
            "\n",
            " [[197 210 239]\n",
            "  [195 208 238]\n",
            "  [195 210 240]\n",
            "  ...\n",
            "  [231 243 250]\n",
            "  [233 243 250]\n",
            "  [241 245 253]]\n",
            "\n",
            " [[222 226 246]\n",
            "  [213 220 242]\n",
            "  [209 219 243]\n",
            "  ...\n",
            "  [243 250 251]\n",
            "  [244 249 251]\n",
            "  [250 250 253]]\n",
            "\n",
            " ...\n",
            "\n",
            " [[ 72  73  99]\n",
            "  [ 71  74 102]\n",
            "  [ 74  78 108]\n",
            "  ...\n",
            "  [220 208 217]\n",
            "  [183 168 181]\n",
            "  [155 141 150]]\n",
            "\n",
            " [[ 72  75 104]\n",
            "  [ 76  81 111]\n",
            "  [ 84  89 122]\n",
            "  ...\n",
            "  [222 212 220]\n",
            "  [187 174 192]\n",
            "  [145 132 149]]\n",
            "\n",
            " [[ 80  85 118]\n",
            "  [ 84  90 123]\n",
            "  [ 85  92 127]\n",
            "  ...\n",
            "  [217 207 215]\n",
            "  [207 194 211]\n",
            "  [176 164 183]]]\n"
          ]
        }
      ],
      "source": [
        "# This cell should be run inplace of the cell directly above\n",
        "print(f\"np.shape(train_X) ={np.shape(train_X)}\")\n",
        "print(f\"np.shape(test_X) = {np.shape(test_X)} \\n\")\n",
        "\n",
        "print(f\"np.shape(train_X[0]) = {np.shape(train_X[0])}\")\n",
        "print(f\"np.shape(test_X[0]) = {np.shape(test_X[0])} \\n\")\n",
        "\n",
        "print(f\"train_X[0] = {test_X[0]}\")\n"
      ]
    },
    {
      "cell_type": "markdown",
      "metadata": {
        "id": "Dh6aCqTe6VVj"
      },
      "source": [
        "---\n",
        "\n",
        "Each image is comprised of a $28\\times 28$ grey scaled grid of pixel values. These values are floating point numbers in the interval $(0,1)$, where darker pixels will have values closer to $1$ and lighter pixels will have values closer to $0$.\n",
        "\n",
        "We can view the image of one of these matrices by running the following code."
      ]
    },
    {
      "cell_type": "code",
      "execution_count": null,
      "metadata": {
        "id": "_zZlak4J6VVj",
        "outputId": "7067a893-e6d0-4d41-ff9f-08d1852639fa",
        "colab": {
          "base_uri": "https://localhost:8080/",
          "height": 866
        }
      },
      "outputs": [
        {
          "output_type": "stream",
          "name": "stdout",
          "text": [
            "train_y[5] = array([86]) \n",
            "\n"
          ]
        },
        {
          "output_type": "display_data",
          "data": {
            "text/plain": [
              "<Figure size 1000x1000 with 1 Axes>"
            ],
            "image/png": "[encoded data removed]"
          },
          "metadata": {}
        }
      ],
      "source": [
        "print(f\"{train_y[5] = } \\n\")\n",
        "plt.figure(figsize=(10,10))\n",
        "plt.imshow(train_X[5], cmap=\"gray\")\n",
        "plt.show()"
      ]
    },
    {
      "cell_type": "code",
      "source": [
        "print(f\"{train_y[5] = } \\n\")\n",
        "plt.figure(figsize=(10,10))\n",
        "print(test_X)\n",
        "plt.show()"
      ],
      "metadata": {
        "colab": {
          "base_uri": "https://localhost:8080/",
          "height": 1000
        },
        "id": "3wLM67bAxc8i",
        "outputId": "cf545672-c5eb-4baa-a4dc-ac574acb6c58"
      },
      "execution_count": null,
      "outputs": [
        {
          "output_type": "stream",
          "name": "stdout",
          "text": [
            "train_y[5] = array([86]) \n",
            "\n",
            "[[[[199 215 249]\n",
            "   [196 211 244]\n",
            "   [195 210 243]\n",
            "   ...\n",
            "   [216 231 250]\n",
            "   [217 231 250]\n",
            "   [224 234 252]]\n",
            "\n",
            "  [[197 210 239]\n",
            "   [195 208 238]\n",
            "   [195 210 240]\n",
            "   ...\n",
            "   [231 243 250]\n",
            "   [233 243 250]\n",
            "   [241 245 253]]\n",
            "\n",
            "  [[222 226 246]\n",
            "   [213 220 242]\n",
            "   [209 219 243]\n",
            "   ...\n",
            "   [243 250 251]\n",
            "   [244 249 251]\n",
            "   [250 250 253]]\n",
            "\n",
            "  ...\n",
            "\n",
            "  [[ 72  73  99]\n",
            "   [ 71  74 102]\n",
            "   [ 74  78 108]\n",
            "   ...\n",
            "   [220 208 217]\n",
            "   [183 168 181]\n",
            "   [155 141 150]]\n",
            "\n",
            "  [[ 72  75 104]\n",
            "   [ 76  81 111]\n",
            "   [ 84  89 122]\n",
            "   ...\n",
            "   [222 212 220]\n",
            "   [187 174 192]\n",
            "   [145 132 149]]\n",
            "\n",
            "  [[ 80  85 118]\n",
            "   [ 84  90 123]\n",
            "   [ 85  92 127]\n",
            "   ...\n",
            "   [217 207 215]\n",
            "   [207 194 211]\n",
            "   [176 164 183]]]\n",
            "\n",
            "\n",
            " [[[113 130  98]\n",
            "   [ 88 105  73]\n",
            "   [ 72  89  58]\n",
            "   ...\n",
            "   [105 124  93]\n",
            "   [ 86 106  74]\n",
            "   [ 63  82  55]]\n",
            "\n",
            "  [[ 95 113  80]\n",
            "   [ 78  97  64]\n",
            "   [ 62  80  49]\n",
            "   ...\n",
            "   [103 122  84]\n",
            "   [ 89 109  70]\n",
            "   [ 65  83  49]]\n",
            "\n",
            "  [[ 79  97  62]\n",
            "   [ 65  82  49]\n",
            "   [ 52  67  37]\n",
            "   ...\n",
            "   [ 65  79  52]\n",
            "   [ 62  79  51]\n",
            "   [ 49  64  38]]\n",
            "\n",
            "  ...\n",
            "\n",
            "  [[121 102  86]\n",
            "   [127 108  96]\n",
            "   [139 121 111]\n",
            "   ...\n",
            "   [ 80 100  71]\n",
            "   [ 75  95  68]\n",
            "   [ 66  85  62]]\n",
            "\n",
            "  [[170 145 131]\n",
            "   [167 145 132]\n",
            "   [159 140 128]\n",
            "   ...\n",
            "   [100 113  84]\n",
            "   [ 89 103  77]\n",
            "   [ 73  87  64]]\n",
            "\n",
            "  [[168 150 135]\n",
            "   [170 152 137]\n",
            "   [173 156 141]\n",
            "   ...\n",
            "   [118 123  96]\n",
            "   [ 99 106  80]\n",
            "   [ 84  92  67]]]\n",
            "\n",
            "\n",
            " [[[ 61  90 120]\n",
            "   [ 61  89 119]\n",
            "   [ 67  96 125]\n",
            "   ...\n",
            "   [ 70  93 124]\n",
            "   [ 64  87 118]\n",
            "   [ 64  88 119]]\n",
            "\n",
            "  [[ 67  97 127]\n",
            "   [ 78 108 138]\n",
            "   [ 80 109 139]\n",
            "   ...\n",
            "   [ 95 113 142]\n",
            "   [ 83 101 129]\n",
            "   [ 83 102 130]]\n",
            "\n",
            "  [[ 64  93 123]\n",
            "   [ 66  95 125]\n",
            "   [ 61  90 120]\n",
            "   ...\n",
            "   [120 134 160]\n",
            "   [109 123 150]\n",
            "   [112 126 152]]\n",
            "\n",
            "  ...\n",
            "\n",
            "  [[ 84  87  87]\n",
            "   [ 67  59  38]\n",
            "   [ 84  78  33]\n",
            "   ...\n",
            "   [204 167 160]\n",
            "   [235 202 192]\n",
            "   [236 206 193]]\n",
            "\n",
            "  [[ 72  64  54]\n",
            "   [ 70  54  30]\n",
            "   [ 84  79  40]\n",
            "   ...\n",
            "   [199 157 152]\n",
            "   [190 150 142]\n",
            "   [196 161 149]]\n",
            "\n",
            "  [[ 72  61  47]\n",
            "   [ 76  64  35]\n",
            "   [ 77  74  37]\n",
            "   ...\n",
            "   [227 191 189]\n",
            "   [155 119 115]\n",
            "   [134  98  89]]]\n",
            "\n",
            "\n",
            " ...\n",
            "\n",
            "\n",
            " [[[ 24  38  31]\n",
            "   [ 24  40  31]\n",
            "   [ 22  34  28]\n",
            "   ...\n",
            "   [ 56  59  55]\n",
            "   [ 35  40  37]\n",
            "   [ 25  35  32]]\n",
            "\n",
            "  [[ 19  29  26]\n",
            "   [ 28  45  35]\n",
            "   [ 25  40  29]\n",
            "   ...\n",
            "   [ 55  57  58]\n",
            "   [ 38  42  44]\n",
            "   [ 36  44  39]]\n",
            "\n",
            "  [[ 23  38  28]\n",
            "   [ 31  51  35]\n",
            "   [ 29  50  32]\n",
            "   ...\n",
            "   [ 33  41  36]\n",
            "   [ 33  37  41]\n",
            "   [ 42  49  44]]\n",
            "\n",
            "  ...\n",
            "\n",
            "  [[ 39  73  29]\n",
            "   [ 47  95  25]\n",
            "   [ 61 104  44]\n",
            "   ...\n",
            "   [ 41  79  35]\n",
            "   [ 71 103  72]\n",
            "   [ 54  93  53]]\n",
            "\n",
            "  [[ 39  72  34]\n",
            "   [ 40  91  18]\n",
            "   [ 51  96  33]\n",
            "   ...\n",
            "   [ 33  70  24]\n",
            "   [ 67 100  62]\n",
            "   [ 61 101  55]]\n",
            "\n",
            "  [[ 48  89  33]\n",
            "   [ 37  83  17]\n",
            "   [ 46  91  24]\n",
            "   ...\n",
            "   [ 33  66  20]\n",
            "   [ 65  95  54]\n",
            "   [ 60  94  54]]]\n",
            "\n",
            "\n",
            " [[[ 86  90  80]\n",
            "   [ 93  90  75]\n",
            "   [ 28  25  21]\n",
            "   ...\n",
            "   [ 73  52  36]\n",
            "   [ 67  49  39]\n",
            "   [ 92  71  61]]\n",
            "\n",
            "  [[ 82  86  80]\n",
            "   [ 43  44  41]\n",
            "   [ 17  17  18]\n",
            "   ...\n",
            "   [ 65  42  28]\n",
            "   [ 34  23  16]\n",
            "   [ 56  41  33]]\n",
            "\n",
            "  [[ 64  66  60]\n",
            "   [ 25  27  26]\n",
            "   [ 39  39  39]\n",
            "   ...\n",
            "   [ 54  37  24]\n",
            "   [ 34  25  19]\n",
            "   [ 40  31  22]]\n",
            "\n",
            "  ...\n",
            "\n",
            "  [[ 43  43  39]\n",
            "   [ 87  82  70]\n",
            "   [112 105  91]\n",
            "   ...\n",
            "   [130 130 123]\n",
            "   [128 126 121]\n",
            "   [119 121 119]]\n",
            "\n",
            "  [[ 44  42  35]\n",
            "   [ 79  74  62]\n",
            "   [ 99  95  82]\n",
            "   ...\n",
            "   [135 133 123]\n",
            "   [130 127 119]\n",
            "   [121 120 114]]\n",
            "\n",
            "  [[ 85  82  70]\n",
            "   [ 97  91  77]\n",
            "   [ 90  88  76]\n",
            "   ...\n",
            "   [132 128 119]\n",
            "   [129 124 115]\n",
            "   [120 117 109]]]\n",
            "\n",
            "\n",
            " [[[246 246 242]\n",
            "   [240 238 232]\n",
            "   [214 212 199]\n",
            "   ...\n",
            "   [ 74  32  35]\n",
            "   [ 77  34  37]\n",
            "   [ 81  34  35]]\n",
            "\n",
            "  [[210 205 196]\n",
            "   [243 240 230]\n",
            "   [229 225 214]\n",
            "   ...\n",
            "   [ 75  33  35]\n",
            "   [ 79  35  38]\n",
            "   [ 83  34  36]]\n",
            "\n",
            "  [[144 134 112]\n",
            "   [175 163 144]\n",
            "   [158 144 130]\n",
            "   ...\n",
            "   [ 74  33  35]\n",
            "   [ 79  35  38]\n",
            "   [ 82  33  36]]\n",
            "\n",
            "  ...\n",
            "\n",
            "  [[198 190 176]\n",
            "   [111 111  66]\n",
            "   [ 58  55  27]\n",
            "   ...\n",
            "   [ 62  81  41]\n",
            "   [ 72 100  41]\n",
            "   [ 80 107  49]]\n",
            "\n",
            "  [[167 160 144]\n",
            "   [ 62  64  27]\n",
            "   [ 85  85  68]\n",
            "   ...\n",
            "   [ 92 126  58]\n",
            "   [143 183 104]\n",
            "   [160 199 118]]\n",
            "\n",
            "  [[115 108  94]\n",
            "   [ 42  37  21]\n",
            "   [139 136 127]\n",
            "   ...\n",
            "   [139 172 114]\n",
            "   [167 204 141]\n",
            "   [146 182 118]]]]\n"
          ]
        },
        {
          "output_type": "display_data",
          "data": {
            "text/plain": [
              "<Figure size 1000x1000 with 0 Axes>"
            ]
          },
          "metadata": {}
        }
      ]
    },
    {
      "cell_type": "markdown",
      "metadata": {
        "id": "FjIY7PXS6VVj"
      },
      "source": [
        "---\n",
        "\n",
        "## Image Flattening\n",
        "\n",
        "Simple **dense neural networks** pass feature vectors into the 0-th (the first) layer of the computational graph represented by the neural network structure as column vectors. This 0-th layer is essentially the same as with single neuron models. In order to feed our images into such a network we must **flatten** the matrix into a column vector.\n",
        "\n",
        "The following code scales our training and testing data, reshapes our images and stores them in new variable names, and one-hot encodes the labels.\n"
      ]
    },
    {
      "cell_type": "code",
      "execution_count": null,
      "metadata": {
        "id": "hGyaAi806VVj"
      },
      "outputs": [],
      "source": [
        "# Scale the data for training.\n",
        "train_X = train_X/255\n",
        "test_X = test_X/255\n",
        "\n",
        "# Flatten the training images into coloumn vectors.\n",
        "flat_train_X = []\n",
        "# One hot encode the training labels\n",
        "onehot_train_y = []\n",
        "\n",
        "for x, a in zip(train_X, train_y):\n",
        "    flat_train_X.append(x.flatten().reshape(3072, 1))\n",
        "    temp_vec = np.zeros((100, 1))\n",
        "    temp_vec[a][0] = 1\n",
        "    onehot_train_y.append(temp_vec)\n",
        "\n",
        "\n",
        "# Do the same for the testing data\n",
        "flat_test_X = []\n",
        "onehot_test_y = []\n",
        "\n",
        "for x, y in zip(test_X, test_y):\n",
        "    flat_test_X.append(x.flatten().reshape(3072, 1))\n",
        "    temp_vec = np.zeros((100, 1))\n",
        "    temp_vec[y] = 1\n",
        "    onehot_test_y.append(temp_vec)\n"
      ]
    },
    {
      "cell_type": "markdown",
      "metadata": {
        "id": "vvaR9BOI6VVk"
      },
      "source": [
        "---\n",
        "\n",
        "## Building the Network Architecture\n",
        "For our purposes, we will build a multilayered **fully connected**, or **dense**, neural network with $L$ layers, $784$ input notes, $L-2$ hidden layers of arbitrary size, and $10$ output nodes.\n",
        "\n",
        "For our activation function, we will use the sigmoid function:\n",
        "\n",
        "* Sigmoid Function\n",
        "$$\n",
        "\\sigma(z) = \\frac{1}{1+e^{-z}}.\n",
        "$$\n",
        "\n",
        "For our cost function, we will use the Mean Sqaure Error cost:\n",
        "$$\n",
        "C(W, b) = \\frac{1}{2}\\sum_{k=1}^{10}(\\hat{y}^{(i)}_k - y^{(i)}_k)^2.\n",
        "$$\n",
        "\n",
        "Our goal will be to write a custom Python class implementing our desired structure. However, before doing so, we first sequentually write functions to better understand the process of programming the following:\n",
        "\n",
        "* Initializing the weights and biases of each layer\n",
        "* The feedforward phase\n",
        "* Calculation of the cost function\n",
        "* Calculation of the gradient\n",
        "* Iterating stochastic gradient descent\n",
        "\n",
        "First we will define our sigmoid activation function, its derivative, and the mean squared error for a single instance of training data. Do this by running the following code.\n",
        "\n",
        "---"
      ]
    },
    {
      "cell_type": "code",
      "execution_count": null,
      "metadata": {
        "id": "Nc2L41PK6VVk"
      },
      "outputs": [],
      "source": [
        "def sigmoid(z):\n",
        "    return 1.0/(1.0+np.exp(-z))\n",
        "\n",
        "def d_sigmoid(z):\n",
        "    return sigmoid(z)*(1.0 - sigmoid(z))\n",
        "\n",
        "def mse(a, y):\n",
        "    return .5*sum((a[i] - y[i])**2 for i in range(10))[0]"
      ]
    },
    {
      "cell_type": "markdown",
      "metadata": {
        "id": "s490RD4V6VVk"
      },
      "source": [
        "---\n",
        "\n",
        "Next we will write a custom function to initialize the weight matrices and bias column vectors for a dense neural network. Do this by running the following code.\n",
        "\n",
        "\n",
        "---"
      ]
    },
    {
      "cell_type": "code",
      "execution_count": null,
      "metadata": {
        "id": "-GvUSRUx6VVk"
      },
      "outputs": [],
      "source": [
        "def initialize_weights(layers = [3072, 60, 60, 100]):\n",
        "    # The following Python lists will contain numpy matrices\n",
        "    # connected the layers in the neural network\n",
        "    W = [[0.0]]\n",
        "    B = [[0.0]]\n",
        "    for i in range(1, len(layers)):\n",
        "        # The scalling factor is something I found in a research paper :)\n",
        "        w_temp = np.random.randn(layers[i], layers[i-1])*np.sqrt(2/layers[i-1])\n",
        "        b_temp = np.random.randn(layers[i], 1)*np.sqrt(2/layers[i-1])\n",
        "\n",
        "        W.append(w_temp)\n",
        "        B.append(b_temp)\n",
        "    return W, B"
      ]
    },
    {
      "cell_type": "markdown",
      "metadata": {
        "id": "0PXm4CRw6VVk"
      },
      "source": [
        "---\n",
        "\n",
        "## Feedforward Phase\n",
        "\n",
        "For $\\ell = 1, \\dots, L$, each layer $\\ell$ in our network will have two phases, the preactivation phase $$\\mathbf{z}^{\\ell} = W^{\\ell}\\mathbf{a}^{\\ell-1} + \\mathbf{b}^{\\ell},$$ and postactivation phase $$\\mathbf{a}^{\\ell} = \\sigma(\\mathbf{z}^{\\ell}).$$ The preactivation phase consists of a weighted linear combination of postactivation values in the previous layer. The postactivation values consists of passing the preactivation value through an activation function elementwise. Note $\\mathbf{a}^0 = \\mathbf{x}^{(i)}$, where $\\mathbf{x}^{(i)}$ is the current input data into our network.\n",
        "\n",
        "We can test our activation functions and matrix dimensions by running the following code which manually implements the feedforward process on a neural network with the given dimensions.\n",
        "\n",
        "---"
      ]
    },
    {
      "cell_type": "code",
      "execution_count": null,
      "metadata": {
        "id": "-GRR2VW_6VVk",
        "outputId": "ff86872d-ef89-4263-ead2-01890930fe28",
        "colab": {
          "base_uri": "https://localhost:8080/"
        }
      },
      "outputs": [
        {
          "output_type": "stream",
          "name": "stdout",
          "text": [
            "np.shape(a0) = (3072, 1) \n",
            "\n",
            "np.shape(W[1]) = (60, 3072)\n",
            "np.shape(z1) = (60, 1)\n",
            "np.shape(a1) = (60, 1) \n",
            "\n",
            "np.shape(W[2]) = (60, 60)\n",
            "np.shape(z2) = (60, 1)\n",
            "np.shape(a2) = (60, 1) \n",
            "\n",
            "np.shape(W[3]) = (100, 60)\n",
            "np.shape(z3) = (100, 1)\n",
            "np.shape(a3) = (100, 1) \n",
            "\n",
            "Prediction: np.argmax(y_hat) = 54\n",
            "Target Label: np.argmax(yi) = 0\n",
            "mse(y_hat, yi) = 1.577336077970247\n"
          ]
        }
      ],
      "source": [
        "W, B = initialize_weights()\n",
        "\n",
        "xi = flat_train_X[0]\n",
        "yi = onehot_train_y[0]\n",
        "a0 = xi\n",
        "\n",
        "print(f\"np.shape(a0) = {np.shape(a0)} \\n\")\n",
        "\n",
        "z1 = W[1] @ a0 + B[1]\n",
        "a1 = sigmoid(z1)\n",
        "\n",
        "print(f\"np.shape(W[1]) = {np.shape(W[1])}\")\n",
        "print(f\"np.shape(z1) = {np.shape(z1)}\")\n",
        "print(f\"np.shape(a1) = {np.shape(a1)} \\n\")\n",
        "\n",
        "z2 = W[2] @ a1 + B[2]\n",
        "a2 = sigmoid(z2)\n",
        "\n",
        "print(f\"np.shape(W[2]) = {np.shape(W[2])}\")\n",
        "print(f\"np.shape(z2) = {np.shape(z2)}\")\n",
        "print(f\"np.shape(a2) = {np.shape(a2)} \\n\")\n",
        "\n",
        "z3 = W[3] @ a2 + B[3]\n",
        "a3 = sigmoid(z3)\n",
        "y_hat = a3\n",
        "print(f\"np.shape(W[3]) = {np.shape(W[3])}\")\n",
        "print(f\"np.shape(z3) = {np.shape(z3)}\")\n",
        "print(f\"np.shape(a3) = {np.shape(a3)} \\n\")\n",
        "\n",
        "\n",
        "print(f\"Prediction: np.argmax(y_hat) = {np.argmax(y_hat)}\")\n",
        "print(f\"Target Label: np.argmax(yi) = {np.argmax(yi)}\")\n",
        "print(f\"mse(y_hat, yi) = {mse(y_hat, yi)}\")"
      ]
    },
    {
      "cell_type": "markdown",
      "metadata": {
        "id": "NWkU89bC6VVk"
      },
      "source": [
        "---\n",
        "\n",
        "Obviously we could wrap all these lines of code into a ```for```-loop and place it in a callable function. The following code does precisely this.\n",
        "\n",
        "---"
      ]
    },
    {
      "cell_type": "code",
      "execution_count": null,
      "metadata": {
        "id": "9zoA8pvr6VVk",
        "outputId": "d2aee49a-94db-4b2f-eaae-bc1276cc65d0",
        "colab": {
          "base_uri": "https://localhost:8080/"
        }
      },
      "outputs": [
        {
          "output_type": "stream",
          "name": "stdout",
          "text": [
            "Prediction: np.argmax(y_hat) = 54\n",
            "Target Label: np.argmax(yi) = 0\n",
            "mse(y_hat, yi) = 1.577336077970247\n"
          ]
        }
      ],
      "source": [
        "def forward_pass(W, B, xi, predict_vector = False):\n",
        "    Z = [[0.0]]\n",
        "    A = [xi]\n",
        "    L = len(W) - 1\n",
        "    for i in range(1, L + 1):\n",
        "        z = W[i] @ A[i-1] + B[i]\n",
        "        Z.append(z)\n",
        "\n",
        "        a = sigmoid(z)\n",
        "        A.append(a)\n",
        "\n",
        "    if predict_vector == False:\n",
        "        return Z, A\n",
        "    else:\n",
        "        return A[-1]\n",
        "\n",
        "def predict(W, B, xi):\n",
        "    _, A = forward_pass(W, B, xi)\n",
        "    return np.argmax(A[-1])\n",
        "\n",
        "y_hat = forward_pass(W, B, flat_train_X[0], predict_vector=True)\n",
        "print(f\"Prediction: np.argmax(y_hat) = {np.argmax(y_hat)}\")\n",
        "print(f\"Target Label: np.argmax(yi) = {np.argmax(yi)}\")\n",
        "print(f\"mse(y_hat, yi) = {mse(y_hat, yi)}\")"
      ]
    },
    {
      "cell_type": "markdown",
      "metadata": {
        "id": "ggr_4jBT6VVk"
      },
      "source": [
        "---\n",
        "\n",
        "Let us next write a custom function for making a prediction on a random data point, as well as write a mean squared error function that computes the error over an entire set of features and labels.\n",
        "\n",
        "\n",
        "---"
      ]
    },
    {
      "cell_type": "code",
      "execution_count": null,
      "metadata": {
        "id": "WAigF0_f6VVk"
      },
      "outputs": [],
      "source": [
        "\n",
        "def random_experiment(W, B, data_features, data_labels):\n",
        "    i = np.random.randint(len(data_features))\n",
        "    print(f\"Actual label: {np.argmax(data_labels[i])}\")\n",
        "    print(f\"Predicted label: {predict(W, B, data_features[i])}\")\n",
        "\n",
        "\n",
        "def MSE(W, B, X, y):\n",
        "    cost = 0.0\n",
        "    m = 0\n",
        "    for xi, yi in zip(X, y):\n",
        "        a = forward_pass(W, B, xi, predict_vector = True)\n",
        "        cost += mse(a, yi)\n",
        "        m+=1\n",
        "    return cost/m"
      ]
    },
    {
      "cell_type": "code",
      "execution_count": null,
      "metadata": {
        "id": "uN5W0-m96VVl",
        "outputId": "eadb9a30-a42c-4418-ec8e-afe05d3661ed",
        "colab": {
          "base_uri": "https://localhost:8080/"
        }
      },
      "outputs": [
        {
          "output_type": "stream",
          "name": "stdout",
          "text": [
            "MSE(W, B, flat_train_X, onehot_train_y) = 1.5518819974413078 \n",
            "\n",
            "Actual label: 0\n",
            "Predicted label: 54\n"
          ]
        }
      ],
      "source": [
        "print(f\"MSE(W, B, flat_train_X, onehot_train_y) = {MSE(W, B, flat_train_X, onehot_train_y)} \\n\")\n",
        "\n",
        "random_experiment(W, B, flat_train_X, onehot_train_y)"
      ]
    },
    {
      "cell_type": "markdown",
      "metadata": {
        "id": "CKMyxO3z6VVl"
      },
      "source": [
        "---\n",
        "\n",
        "## Backpropogation Phase with Stochastic Gradient Descent\n",
        "We are now ready to define a custom Python ```DenseNetwork``` class which initializes the weights and bias for the network, and implements stochastic gradient descent shown below:\n",
        "\n",
        "1. For each $i = 1, \\dots, N$.\n",
        "2. Feedforward $\\mathbf{x}^{(i)}$ into the network.\n",
        "3. Compute $\\delta^{L} = \\nabla_aC\\otimes \\sigma'(\\mathbf{z}^{L})$.\n",
        "4. For $\\ell = L-1, \\dots, 1$, compute $\\delta^{\\ell} = \\big ( (\\mathbf{w}^{\\ell + 1})^{T} \\delta^{\\ell + 1} \\Big )\\otimes \\sigma'(\\mathbf{z}^{\\ell})$.\n",
        "5. For $\\ell = L, L-1, \\dots, 1$,\n",
        "\n",
        "$$\n",
        "w^{\\ell} \\leftarrow w^{\\ell} - \\alpha \\delta^{\\ell}(\\mathbf{a}^{\\ell-1})^{T}\n",
        "$$\n",
        "\n",
        "$$\n",
        "b^{\\ell} \\leftarrow b^{\\ell} - \\alpha \\delta^{\\ell}\n",
        "$$\n",
        "\n",
        "\n",
        "---"
      ]
    },
    {
      "cell_type": "code",
      "execution_count": null,
      "metadata": {
        "id": "BYHW5dK46VVl"
      },
      "outputs": [],
      "source": [
        "\n",
        "class DenseNetwork(object):\n",
        "    def __init__(self, layers = [3072, 60, 60, 100]):\n",
        "        self.layers = layers\n",
        "        self.W, self.B = initialize_weights(layers = self.layers)\n",
        "\n",
        "    def train(self, X_train, y_train, alpha = 0.046, epochs = 4):\n",
        "        # Print the initial mean squared error\n",
        "        self.errors_ = [MSE(self.W, self.B, X_train, y_train)]\n",
        "        print(f\"Starting Cost = {self.errors_[0]}\")\n",
        "\n",
        "        # Find your sample size\n",
        "        sample_size = len(X_train)\n",
        "\n",
        "        # Find the number of non-input layers.\n",
        "        L = len(self.layers) - 1\n",
        "\n",
        "        # For each epoch perform stochastic gradient descent.\n",
        "        for k in range(epochs):\n",
        "            # Loop over each (xi, yi) training pair of data.\n",
        "            for xi, yi in zip(X_train, y_train):\n",
        "                # Use the forward pass function defined before\n",
        "                # and find the preactivation and postactivation values.\n",
        "                Z, A = forward_pass(self.W, self.B, xi)\n",
        "\n",
        "                # Store the errors in a dictionary for clear interpretation\n",
        "                # of computation of these values.\n",
        "                deltas = dict()\n",
        "\n",
        "                # Compute the output error\n",
        "                output_error = (A[L] - yi)*d_sigmoid(Z[L])\n",
        "                deltas[L] = output_error\n",
        "\n",
        "                # Loop from L-1 to 1. Recall the right entry of the range function\n",
        "                # is non-inclusive.\n",
        "                for i in range(L-1, 0, -1):\n",
        "                    # Compute the node errors at each hidden layer\n",
        "                    deltas[i] = (self.W[i+1].T @ deltas[i+1])*d_sigmoid(Z[i])\n",
        "\n",
        "                # Loop over each hidden layer and the output layer to perform gradient\n",
        "                # descent.\n",
        "                for i in range(1, L+1):\n",
        "                    self.W[i] -= alpha*deltas[i] @ A[i-1].T\n",
        "                    self.B[i] -= alpha*deltas[i]\n",
        "\n",
        "            # Show the user the cost over all training examples\n",
        "            self.errors_.append(MSE(self.W, self.B, X_train, y_train))\n",
        "            print(f\"{k + 1}-Epoch Cost = {self.errors_[-1]}\")\n",
        "\n",
        "\n",
        "    def predict(self, xi):\n",
        "        depth = len(self.layers)\n",
        "        _, A = forward_pass(self.W, self.B, xi)\n",
        "        return np.argmax(A[-1])"
      ]
    },
    {
      "cell_type": "code",
      "execution_count": null,
      "metadata": {
        "id": "CfUtCMXl6VVl",
        "outputId": "ef3dab83-ce86-47e4-cc1d-e59390156ba5",
        "colab": {
          "base_uri": "https://localhost:8080/",
          "height": 1000
        }
      },
      "outputs": [
        {
          "output_type": "stream",
          "name": "stdout",
          "text": [
            "MSE(net.W, net.B, flat_train_X, onehot_train_y) = 1.9804208790886597 \n",
            "\n",
            "predicted digit is: 48\n",
            "actual digit is: 12\n",
            "[[[0.8        0.83529412 0.89411765]\n",
            "  [0.7372549  0.81176471 0.90588235]\n",
            "  [0.65490196 0.76470588 0.87058824]\n",
            "  ...\n",
            "  [0.42745098 0.5372549  0.69803922]\n",
            "  [0.35686275 0.4745098  0.65882353]\n",
            "  [0.2745098  0.39215686 0.57254902]]\n",
            "\n",
            " [[0.82352941 0.88235294 0.9372549 ]\n",
            "  [0.75686275 0.86666667 0.96470588]\n",
            "  [0.68235294 0.81960784 0.9372549 ]\n",
            "  ...\n",
            "  [0.34117647 0.49411765 0.70196078]\n",
            "  [0.33333333 0.48627451 0.71372549]\n",
            "  [0.26666667 0.41176471 0.62745098]]\n",
            "\n",
            " [[0.78823529 0.8745098  0.90980392]\n",
            "  [0.74901961 0.87843137 0.94901961]\n",
            "  [0.68627451 0.81960784 0.90980392]\n",
            "  ...\n",
            "  [0.28235294 0.43921569 0.65098039]\n",
            "  [0.2745098  0.42745098 0.65882353]\n",
            "  [0.26666667 0.40784314 0.61960784]]\n",
            "\n",
            " ...\n",
            "\n",
            " [[0.9254902  0.9254902  0.9254902 ]\n",
            "  [0.96862745 0.96862745 0.96862745]\n",
            "  [0.95294118 0.95686275 0.95686275]\n",
            "  ...\n",
            "  [0.79607843 0.80392157 0.85490196]\n",
            "  [0.79215686 0.8        0.84705882]\n",
            "  [0.76078431 0.77254902 0.80784314]]\n",
            "\n",
            " [[0.9372549  0.9372549  0.9372549 ]\n",
            "  [0.98431373 0.98431373 0.98431373]\n",
            "  [0.97254902 0.97254902 0.97254902]\n",
            "  ...\n",
            "  [0.80784314 0.81176471 0.8627451 ]\n",
            "  [0.80392157 0.80784314 0.85490196]\n",
            "  [0.77254902 0.78039216 0.81960784]]\n",
            "\n",
            " [[0.77647059 0.77647059 0.77647059]\n",
            "  [0.81960784 0.81960784 0.81960784]\n",
            "  [0.81568627 0.81568627 0.81568627]\n",
            "  ...\n",
            "  [0.68235294 0.67843137 0.7254902 ]\n",
            "  [0.6745098  0.6745098  0.71372549]\n",
            "  [0.65098039 0.65098039 0.67843137]]]\n"
          ]
        },
        {
          "output_type": "display_data",
          "data": {
            "text/plain": [
              "<Figure size 800x800 with 1 Axes>"
            ],
            "image/png": "[encoded data removed]"
          },
          "metadata": {}
        }
      ],
      "source": [
        "# Initialize a network with 784 input nodes, two hidden layers with 60 nodes each\n",
        "# and a output layer with 10 nodes.\n",
        "net = DenseNetwork(layers = [3072, 120, 145, 120, 100])\n",
        "\n",
        "# Check the mean squared error before training\n",
        "print(f\"MSE(net.W, net.B, flat_train_X, onehot_train_y) = {MSE(net.W, net.B, flat_train_X, onehot_train_y)} \\n\")\n",
        "\n",
        "# Make a random prediction before training\n",
        "i = np.random.randint(0, len(flat_test_X))\n",
        "prediction = net.predict(flat_test_X[i])\n",
        "print(f\"predicted digit is: {prediction}\")\n",
        "print(f\"actual digit is: {np.argmax(onehot_test_y[i])}\")\n",
        "plt.figure(figsize=(8, 8))\n",
        "plt.imshow(test_X[i], cmap=\"gray\")\n",
        "print(test_X[i])\n",
        "plt.show()"
      ]
    },
    {
      "cell_type": "code",
      "execution_count": null,
      "metadata": {
        "id": "uQp0sxha6VVl",
        "outputId": "634d8b5a-48ee-4a83-b8a5-03058aa27d8b",
        "colab": {
          "base_uri": "https://localhost:8080/"
        }
      },
      "outputs": [
        {
          "output_type": "stream",
          "name": "stdout",
          "text": [
            "Starting Cost = 1.9804208790886597\n",
            "1-Epoch Cost = 1.0334356420098532e-05\n",
            "2-Epoch Cost = 5.0666913091752145e-06\n",
            "3-Epoch Cost = 3.343097044313823e-06\n",
            "4-Epoch Cost = 2.490192988762387e-06\n"
          ]
        }
      ],
      "source": [
        "# Train your network with stochastic gradient descent!\n",
        "net.train(flat_train_X, onehot_train_y)"
      ]
    },
    {
      "cell_type": "code",
      "execution_count": null,
      "metadata": {
        "id": "ESV3Z-NE6VVl",
        "colab": {
          "base_uri": "https://localhost:8080/",
          "height": 720
        },
        "outputId": "c2206fe8-3bab-405e-8567-732f6e44fbef"
      },
      "outputs": [
        {
          "output_type": "display_data",
          "data": {
            "text/plain": [
              "<Figure size 1000x800 with 1 Axes>"
            ],
            "image/png": "[encoded data removed]"
          },
          "metadata": {}
        }
      ],
      "source": [
        "# Visualize the mean squared error over the training process\n",
        "plt.figure(figsize = (10, 8))\n",
        "epochs = range(len(net.errors_))\n",
        "plt.plot(epochs, net.errors_, marker = \"o\")\n",
        "plt.xticks(epochs)\n",
        "plt.xlabel(\"epochs\")\n",
        "plt.ylabel(\"Mean Squared Error\")\n",
        "plt.title(\"Network MSE During Training\", fontsize = 16)\n",
        "plt.show()\n"
      ]
    },
    {
      "cell_type": "code",
      "execution_count": null,
      "metadata": {
        "id": "xY4VbAMK6VVl",
        "colab": {
          "base_uri": "https://localhost:8080/",
          "height": 712
        },
        "outputId": "72bff870-086c-4afb-bd7d-e87079984bba"
      },
      "outputs": [
        {
          "output_type": "stream",
          "name": "stdout",
          "text": [
            "predicted digit is: 33\n",
            "actual digit is: 44\n"
          ]
        },
        {
          "output_type": "display_data",
          "data": {
            "text/plain": [
              "<Figure size 800x800 with 1 Axes>"
            ],
            "image/png": "[encoded data removed]"
          },
          "metadata": {}
        }
      ],
      "source": [
        "i = np.random.randint(0, len(flat_test_X))\n",
        "prediction = net.predict(flat_test_X[i])\n",
        "print(f\"predicted digit is: {prediction}\")\n",
        "print(f\"actual digit is: {np.argmax(onehot_test_y[i])}\")\n",
        "plt.figure(figsize=(8, 8))\n",
        "plt.imshow(test_X[i], cmap=\"gray\")\n",
        "plt.show()"
      ]
    },
    {
      "cell_type": "code",
      "execution_count": null,
      "metadata": {
        "id": "rDh9OgRI6VVl",
        "colab": {
          "base_uri": "https://localhost:8080/",
          "height": 712
        },
        "outputId": "524fd418-3000-4ffb-df62-5224d1c1fb8b"
      },
      "outputs": [
        {
          "output_type": "stream",
          "name": "stdout",
          "text": [
            "predicted digit is: 33\n",
            "actual digit is: 98\n"
          ]
        },
        {
          "output_type": "display_data",
          "data": {
            "text/plain": [
              "<Figure size 800x800 with 1 Axes>"
            ],
            "image/png": "[encoded data removed]"
          },
          "metadata": {}
        }
      ],
      "source": [
        "i = np.random.randint(0, len(flat_test_X))\n",
        "prediction = net.predict(flat_test_X[i])\n",
        "print(f\"predicted digit is: {prediction}\")\n",
        "print(f\"actual digit is: {np.argmax(onehot_test_y[i])}\")\n",
        "plt.figure(figsize=(8, 8))\n",
        "plt.imshow(test_X[i], cmap=\"gray\")\n",
        "plt.show()"
      ]
    },
    {
      "cell_type": "code",
      "execution_count": null,
      "metadata": {
        "id": "M6l94Vjo6VVl",
        "colab": {
          "base_uri": "https://localhost:8080/",
          "height": 712
        },
        "outputId": "5b218970-a02a-4223-9f9e-0a95582ecb76"
      },
      "outputs": [
        {
          "output_type": "stream",
          "name": "stdout",
          "text": [
            "predicted digit is: 33\n",
            "actual digit is: 55\n"
          ]
        },
        {
          "output_type": "display_data",
          "data": {
            "text/plain": [
              "<Figure size 800x800 with 1 Axes>"
            ],
            "image/png": "[encoded data removed]"
          },
          "metadata": {}
        }
      ],
      "source": [
        "i = np.random.randint(0, len(flat_test_X))\n",
        "prediction = net.predict(flat_test_X[i])\n",
        "print(f\"predicted digit is: {prediction}\")\n",
        "print(f\"actual digit is: {np.argmax(onehot_test_y[i])}\")\n",
        "plt.figure(figsize=(8, 8))\n",
        "plt.imshow(test_X[i], cmap=\"gray\")\n",
        "plt.show()"
      ]
    },
    {
      "cell_type": "code",
      "execution_count": null,
      "metadata": {
        "id": "-pz6arB36VVl",
        "colab": {
          "base_uri": "https://localhost:8080/",
          "height": 712
        },
        "outputId": "3c035038-7ee9-45c2-e1db-e0491e3e8501"
      },
      "outputs": [
        {
          "output_type": "stream",
          "name": "stdout",
          "text": [
            "predicted digit is: 33\n",
            "actual digit is: 22\n"
          ]
        },
        {
          "output_type": "display_data",
          "data": {
            "text/plain": [
              "<Figure size 800x800 with 1 Axes>"
            ],
            "image/png": "[encoded data removed]"
          },
          "metadata": {}
        }
      ],
      "source": [
        "i = np.random.randint(0, len(flat_test_X))\n",
        "prediction = net.predict(flat_test_X[i])\n",
        "print(f\"predicted digit is: {prediction}\")\n",
        "print(f\"actual digit is: {np.argmax(onehot_test_y[i])}\")\n",
        "plt.figure(figsize=(8, 8))\n",
        "plt.imshow(test_X[i],cmap = \"gray\")\n",
        "plt.show()"
      ]
    },
    {
      "cell_type": "code",
      "execution_count": null,
      "metadata": {
        "id": "qYzGUK-P6VVl",
        "colab": {
          "base_uri": "https://localhost:8080/",
          "height": 712
        },
        "outputId": "3085855d-a958-454a-ac49-dbdaab817167"
      },
      "outputs": [
        {
          "output_type": "stream",
          "name": "stdout",
          "text": [
            "predicted digit is: 33\n",
            "actual digit is: 77\n"
          ]
        },
        {
          "output_type": "display_data",
          "data": {
            "text/plain": [
              "<Figure size 800x800 with 1 Axes>"
            ],
            "image/png": "[encoded data removed]"
          },
          "metadata": {}
        }
      ],
      "source": [
        "i = np.random.randint(0, len(flat_test_X))\n",
        "prediction = net.predict(flat_test_X[i])\n",
        "print(f\"predicted digit is: {prediction}\")\n",
        "print(f\"actual digit is: {np.argmax(onehot_test_y[i])}\")\n",
        "plt.figure(figsize=(8, 8))\n",
        "plt.imshow(test_X[i], cmap=\"gray\")\n",
        "plt.show()"
      ]
    },
    {
      "cell_type": "code",
      "execution_count": null,
      "metadata": {
        "id": "ZwsL5vOI6VVl",
        "colab": {
          "base_uri": "https://localhost:8080/",
          "height": 712
        },
        "outputId": "15829b8f-80e0-4c80-94bf-61bc8ae48b95"
      },
      "outputs": [
        {
          "output_type": "stream",
          "name": "stdout",
          "text": [
            "predicted digit is: 33\n",
            "actual digit is: 59\n"
          ]
        },
        {
          "output_type": "display_data",
          "data": {
            "text/plain": [
              "<Figure size 800x800 with 1 Axes>"
            ],
            "image/png": "[encoded data removed]"
          },
          "metadata": {}
        }
      ],
      "source": [
        "i = np.random.randint(0, len(flat_test_X))\n",
        "prediction = net.predict(flat_test_X[i])\n",
        "print(f\"predicted digit is: {prediction}\")\n",
        "print(f\"actual digit is: {np.argmax(onehot_test_y[i])}\")\n",
        "plt.figure(figsize=(8, 8))\n",
        "plt.imshow(test_X[i], cmap=\"gray\")\n",
        "plt.show()"
      ]
    },
    {
      "cell_type": "code",
      "execution_count": null,
      "metadata": {
        "id": "TMs8JmdO6VVl",
        "colab": {
          "base_uri": "https://localhost:8080/",
          "height": 712
        },
        "outputId": "ce3b0cb1-e58c-4c18-a602-d5f5ca7071ea"
      },
      "outputs": [
        {
          "output_type": "stream",
          "name": "stdout",
          "text": [
            "predicted digit is: 33\n",
            "actual digit is: 36\n"
          ]
        },
        {
          "output_type": "display_data",
          "data": {
            "text/plain": [
              "<Figure size 800x800 with 1 Axes>"
            ],
            "image/png": "[encoded data removed]"
          },
          "metadata": {}
        }
      ],
      "source": [
        "i = np.random.randint(0, len(flat_test_X))\n",
        "prediction = net.predict(flat_test_X[i])\n",
        "print(f\"predicted digit is: {prediction}\")\n",
        "print(f\"actual digit is: {np.argmax(onehot_test_y[i])}\")\n",
        "plt.figure(figsize=(8, 8))\n",
        "plt.imshow(test_X[i], cmap=\"gray\")\n",
        "plt.show()"
      ]
    },
    {
      "cell_type": "markdown",
      "metadata": {
        "id": "lfRImIu56VVl"
      },
      "source": [
        "---\n",
        "\n",
        "## Classification Error\n",
        "Let us now calculate the classification percentage on the testing data for our trained dense neural network. Recall that this is simply the number of correct labels divided by the total number of data points:\n",
        "\n",
        "This can be done by running the following code.\n",
        "\n",
        "\n",
        "---"
      ]
    },
    {
      "cell_type": "code",
      "execution_count": null,
      "metadata": {
        "id": "RMSnAVnI6VVl",
        "colab": {
          "base_uri": "https://localhost:8080/"
        },
        "outputId": "628d0359-0d36-48ad-be2e-59d5ae1ee1c1"
      },
      "outputs": [
        {
          "output_type": "execute_result",
          "data": {
            "text/plain": [
              "0.0105"
            ]
          },
          "metadata": {},
          "execution_count": 183
        }
      ],
      "source": [
        "# Compute the classification accuracy of our trained model on the test data (I bet we did well!)\n",
        "sum([int(net.predict(x) == y) for x, y in zip(flat_test_X, test_y)])/len(onehot_test_y)"
      ]
    },
    {
      "cell_type": "code",
      "execution_count": null,
      "metadata": {
        "id": "YRBT-BMJ6VVl"
      },
      "outputs": [],
      "source": []
    }
  ],
  "metadata": {
    "kernelspec": {
      "display_name": "Python 3.10.5",
      "language": "python",
      "name": "python3"
    },
    "language_info": {
      "codemirror_mode": {
        "name": "ipython",
        "version": 3
      },
      "file_extension": ".py",
      "mimetype": "text/x-python",
      "name": "python",
      "nbconvert_exporter": "python",
      "pygments_lexer": "ipython3",
      "version": "3.10.5"
    },
    "vscode": {
      "interpreter": {
        "hash": "60d347b1b00434e3109b3f59c5a731168507f4d33f1c02fc1f75d9db6931c10a"
      }
    },
    "colab": {
      "provenance": []
    }
  },
  "nbformat": 4,
  "nbformat_minor": 0
}